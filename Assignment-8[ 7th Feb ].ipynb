{
 "cells": [
  {
   "cell_type": "code",
   "execution_count": 34,
   "id": "917ff001-9787-4773-994d-f0e3e04ecc13",
   "metadata": {},
   "outputs": [],
   "source": [
    "# Q1\n",
    "def check_password(s):\n",
    "    u=0;l=0;num=0;s_char=0\n",
    "    \n",
    "    for i in s:\n",
    "        if i.isupper()==True:\n",
    "            print(i)\n",
    "            u = u + 1\n",
    "        \n",
    "        elif i.islower()==True:\n",
    "            print(i)\n",
    "            l = l + 1\n",
    "        \n",
    "        elif i in \"0123456789\":\n",
    "            print(i)\n",
    "            num = num + 1\n",
    "        \n",
    "        elif i in [\"@\", \"$\", \"&\", \"*\", \"!\", \"%\", \"#\"]:\n",
    "            print(i)\n",
    "            s_char = s_char + 1\n",
    "    \n",
    "    print(u,l,num,s_char)\n",
    "    if u >= 2 and l >= 2 and num >=1 and s_char >=3 and len(s)==10:\n",
    "        return \"Valid Password\"\n",
    "    else:\n",
    "        return \"Invalid Password\"\n",
    "    \n",
    "    \n",
    "    \n",
    "    \n",
    "\n",
    "    "
   ]
  },
  {
   "cell_type": "code",
   "execution_count": 35,
   "id": "094a2c9d-e1a1-4ca6-b6c0-6465ac1fb303",
   "metadata": {},
   "outputs": [
    {
     "name": "stdin",
     "output_type": "stream",
     "text": [
      "Enter your password:  mUaZ05@#$S\n"
     ]
    },
    {
     "name": "stdout",
     "output_type": "stream",
     "text": [
      "m\n",
      "U\n",
      "a\n",
      "Z\n",
      "0\n",
      "5\n",
      "@\n",
      "#\n",
      "$\n",
      "S\n",
      "3 2 2 3\n"
     ]
    },
    {
     "data": {
      "text/plain": [
       "'Valid Password'"
      ]
     },
     "execution_count": 35,
     "metadata": {},
     "output_type": "execute_result"
    }
   ],
   "source": [
    "# Q1\n",
    "str1=input(\"Enter your password: \")\n",
    "check_password(str1)\n"
   ]
  },
  {
   "cell_type": "code",
   "execution_count": 45,
   "id": "ffbb16fd-32bf-4240-a085-042ea53ee6a4",
   "metadata": {},
   "outputs": [],
   "source": []
  },
  {
   "cell_type": "code",
   "execution_count": 56,
   "id": "c9a1c00c-87ea-4795-bb2d-bb754d814fb0",
   "metadata": {},
   "outputs": [
    {
     "name": "stdin",
     "output_type": "stream",
     "text": [
      " MAAZ\n"
     ]
    },
    {
     "name": "stdout",
     "output_type": "stream",
     "text": [
      "Is string starts with M: True\n"
     ]
    }
   ],
   "source": [
    "# Q2-1\n",
    "str2_1=input(\"Enter String: \")\n",
    "k1 = list(map(lambda x: x[0]==\"M\",str2_1))\n",
    "print(\"Is string starts with M: \"+str(k[0]))\n"
   ]
  },
  {
   "cell_type": "code",
   "execution_count": 64,
   "id": "2d0b12d1-9a54-47d0-83b8-37c831ab873f",
   "metadata": {},
   "outputs": [
    {
     "name": "stdin",
     "output_type": "stream",
     "text": [
      "Enter String:  1234\n"
     ]
    },
    {
     "name": "stdout",
     "output_type": "stream",
     "text": [
      "String is Numeric\n"
     ]
    }
   ],
   "source": [
    "# Q2-2\n",
    "str2_2=input(\"Enter String: \")\n",
    "\n",
    "k2 = list(filter(lambda x : x  not in \"0123456789\",str2_2))\n",
    "# k2\n",
    "if k2==[]:\n",
    "    print(\"String is Numeric\")\n"
   ]
  },
  {
   "cell_type": "code",
   "execution_count": 69,
   "id": "f216439e-a87c-4c9f-8977-f3832f7de955",
   "metadata": {},
   "outputs": [
    {
     "data": {
      "text/plain": [
       "[99, 80, 1000]"
      ]
     },
     "execution_count": 69,
     "metadata": {},
     "output_type": "execute_result"
    }
   ],
   "source": [
    "# Q2-3\n",
    "\n",
    "l2_3= [(\"mango\",99),(\"orange\",80), (\"grapes\", 1000)]\n",
    "k3_1 = [i[0] for i in l2_3]\n",
    "k3_1\n",
    "\n",
    "k3_2 = [j[1] for j in l2_3]\n",
    "k3_2"
   ]
  },
  {
   "cell_type": "code",
   "execution_count": 1,
   "id": "7bdbc039-0101-46b8-8889-9de62a9a67fb",
   "metadata": {},
   "outputs": [
    {
     "data": {
      "text/plain": [
       "338350"
      ]
     },
     "execution_count": 1,
     "metadata": {},
     "output_type": "execute_result"
    }
   ],
   "source": [
    "# Q2-4\n",
    "from functools import reduce\n",
    "l2_4=[i**2 for i in range(1,101)]\n",
    "reduce(lambda x,y: x+y,l2_4)\n",
    "\n"
   ]
  },
  {
   "cell_type": "code",
   "execution_count": 2,
   "id": "85e975b8-d3f1-49f7-a882-f9e01594fcfe",
   "metadata": {},
   "outputs": [
    {
     "data": {
      "text/plain": [
       "1683.3333333333333"
      ]
     },
     "execution_count": 2,
     "metadata": {},
     "output_type": "execute_result"
    }
   ],
   "source": [
    "# Q2-5\n",
    "from functools import reduce\n",
    "l2_5=[i**1/3 for i in range(1,101)]\n",
    "reduce(lambda x,y: x+y,l2_5)"
   ]
  },
  {
   "cell_type": "code",
   "execution_count": 5,
   "id": "2a1b4019-bb2c-4bad-9612-fb710124d3c8",
   "metadata": {},
   "outputs": [],
   "source": [
    "def check_even(n):\n",
    "    if n%2==0:\n",
    "        return True\n",
    "    return False"
   ]
  },
  {
   "cell_type": "code",
   "execution_count": 7,
   "id": "fdf0a267-7d11-4a9f-9d7c-27966ca236a5",
   "metadata": {},
   "outputs": [
    {
     "name": "stdin",
     "output_type": "stream",
     "text": [
      "Enter number:  12\n"
     ]
    },
    {
     "name": "stdout",
     "output_type": "stream",
     "text": [
      "It is even.\n"
     ]
    }
   ],
   "source": [
    "# Q2-6\n",
    "num6=int(input(\"Enter number: \"))\n",
    "if check_even(num6)==True:\n",
    "    print(\"It is even.\")\n"
   ]
  },
  {
   "cell_type": "code",
   "execution_count": 8,
   "id": "a8949974-f950-4a5a-8be9-55afde49f7c8",
   "metadata": {},
   "outputs": [
    {
     "data": {
      "text/plain": [
       "[1, 3, 5, 7, 9]"
      ]
     },
     "execution_count": 8,
     "metadata": {},
     "output_type": "execute_result"
    }
   ],
   "source": [
    "# Q2-7\n",
    "list(filter(lambda x: x%2!=0,[i for i in range(1,11)]))\n"
   ]
  },
  {
   "cell_type": "code",
   "execution_count": 12,
   "id": "d2991f73-44af-4110-b8f8-4b1a5af122cb",
   "metadata": {},
   "outputs": [
    {
     "data": {
      "text/plain": [
       "[1, 2, 3, 4, 5, 6]"
      ]
     },
     "execution_count": 12,
     "metadata": {},
     "output_type": "execute_result"
    }
   ],
   "source": [
    "# Q2-8\n",
    "l8 = [1,2,3,4,5,6,-1,-2,-3,-4,-5,0]\n",
    "list(filter(lambda x: x>0,l8))\n",
    "\n"
   ]
  },
  {
   "cell_type": "code",
   "execution_count": 13,
   "id": "4e4721a1-b920-42df-aaf6-eae778f0525e",
   "metadata": {},
   "outputs": [
    {
     "data": {
      "text/plain": [
       "[-1, -2, -3, -4, -5]"
      ]
     },
     "execution_count": 13,
     "metadata": {},
     "output_type": "execute_result"
    }
   ],
   "source": [
    "# Q2-8\n",
    "list(filter(lambda x: x<0,l8))"
   ]
  },
  {
   "cell_type": "code",
   "execution_count": null,
   "id": "ee92e07b-cc2a-4731-82b6-623629d30d50",
   "metadata": {},
   "outputs": [],
   "source": []
  }
 ],
 "metadata": {
  "kernelspec": {
   "display_name": "Python 3 (ipykernel)",
   "language": "python",
   "name": "python3"
  },
  "language_info": {
   "codemirror_mode": {
    "name": "ipython",
    "version": 3
   },
   "file_extension": ".py",
   "mimetype": "text/x-python",
   "name": "python",
   "nbconvert_exporter": "python",
   "pygments_lexer": "ipython3",
   "version": "3.10.8"
  }
 },
 "nbformat": 4,
 "nbformat_minor": 5
}
